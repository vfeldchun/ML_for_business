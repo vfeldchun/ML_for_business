{
 "cells": [
  {
   "cell_type": "markdown",
   "id": "d83d7e68",
   "metadata": {},
   "source": [
    "# Домашнее задание к Уроку 6"
   ]
  },
  {
   "cell_type": "markdown",
   "id": "b7f2de05",
   "metadata": {},
   "source": [
    "1. взять любой набор данных для бинарной классификации (можно скачать один из модельных с https://archive.ics.uci.edu/ml/datasets.php)\n",
    "2. сделать feature engineering\n",
    "3. обучить любой классификатор (какой вам нравится)\n",
    "4. далее разделить ваш набор данных на два множества: P (positives) и U (unlabeled). Причем брать нужно не все положительные (класс 1) примеры, а только лишь часть\n",
    "5. применить random negative sampling для построения классификатора в новых условиях\n",
    "6. сравнить качество с решением из пункта 4 (построить отчет - таблицу метрик)\n",
    "7. поэкспериментировать с долей P на шаге 6 (как будет меняться качество модели при уменьшении/увеличении размера P)"
   ]
  },
  {
   "cell_type": "markdown",
   "id": "b77805e7",
   "metadata": {},
   "source": [
    "#### Загрузим необходимые библиотеки"
   ]
  },
  {
   "cell_type": "code",
   "execution_count": 1,
   "id": "097acf5f",
   "metadata": {},
   "outputs": [],
   "source": [
    "import numpy as np\n",
    "import pandas as pd\n",
    "import matplotlib.pyplot as plt\n",
    "%matplotlib inline"
   ]
  },
  {
   "cell_type": "code",
   "execution_count": 2,
   "id": "2c9d987c",
   "metadata": {},
   "outputs": [],
   "source": [
    "from sklearn.model_selection import train_test_split\n",
    "from xgboost import XGBClassifier\n",
    "from sklearn.metrics import recall_score, precision_score, roc_auc_score, accuracy_score, f1_score"
   ]
  },
  {
   "cell_type": "code",
   "execution_count": 3,
   "id": "2e3be17d",
   "metadata": {},
   "outputs": [],
   "source": [
    "def evaluate_results(y_test, y_predict):\n",
    "    print('Classification results:')\n",
    "    f1 = f1_score(y_test, y_predict)\n",
    "    print(\"f1: %.2f%%\" % (f1 * 100.0)) \n",
    "    roc = roc_auc_score(y_test, y_predict)\n",
    "    print(\"roc: %.2f%%\" % (roc * 100.0)) \n",
    "    rec = recall_score(y_test, y_predict, average='binary')\n",
    "    print(\"recall: %.2f%%\" % (rec * 100.0)) \n",
    "    prc = precision_score(y_test, y_predict, average='binary')\n",
    "    print(\"precision: %.2f%%\" % (prc * 100.0)) "
   ]
  },
  {
   "cell_type": "markdown",
   "id": "478b0079",
   "metadata": {},
   "source": [
    "#### Описание датасета"
   ]
  },
  {
   "cell_type": "markdown",
   "id": "b67bede4",
   "metadata": {},
   "source": [
    "Данные связаны с кампаниями прямого маркетинга португальского банковского учреждения.\n",
    "\n",
    "Маркетинговые кампании были основаны на телефонных звонках. Часто требовалось более одного контакта с одним и тем же клиентом,\n",
    "чтобы обкеспечить согласие на доступ к подписке на продукт (срочный банковский депозит)."
   ]
  },
  {
   "cell_type": "markdown",
   "id": "529614a1",
   "metadata": {},
   "source": [
    "**Датасет содержит следующтие признаки:**\n",
    "    \n",
    "   1 - age (numeric) - возраст\n",
    "   \n",
    "   2 - job : тип работы (categorical: \"admin.\",\"unknown\",\"unemployed\",\"management\",\"housemaid\",\"entrepreneur\",\"student\",\n",
    "                                       \"blue-collar\",\"self-employed\",\"retired\",\"technician\",\"services\")\n",
    "                                       \n",
    "   3 - marital : семейное положение (categorical: \"married\",\"divorced\",\"single\";)\n",
    "   \n",
    "   \n",
    "   4 - education (categorical: \"unknown\",\"secondary\",\"primary\",\"tertiary\") - образование\n",
    "   \n",
    "   5 - default: (binary: \"yes\",\"no\") - наличие кредита\n",
    "   \n",
    "   6 - balance: среднегодовой баланс в евро (numeric) \n",
    "   \n",
    "   7 - housing: наличие ипотеки? (binary: \"yes\",\"no\") \n",
    "   \n",
    "   8 - loan: наличие потребительского кредита? (binary: \"yes\",\"no\") \n",
    "   \n",
    "   **Признаки связанные с последней маркетиновой компанией:**\n",
    "   \n",
    "   9 - contact: канал взаимодействия (categorical: \"unknown\",\"telephone\",\"cellular\") \n",
    "   \n",
    "  10 - day: день месяца последнего контакта (numeric) \n",
    "  \n",
    "  11 - month: месяц последнего контакта (categorical: \"jan\", \"feb\", \"mar\", ..., \"nov\", \"dec\") -  \n",
    "  \n",
    "  12 - duration: продолжительность последнего контакта, в секундах (numeric)\n",
    "  \n",
    "  **прочие признаки:**\n",
    "  \n",
    "  13 - campaign: Общее количество контактов в рамках компании для клиента\n",
    "  \n",
    "  14 - pdays: количество дней, прошедших с момента последнего контакта с клиентом из предыдущей кампании (numeric, -1 значит что с клиентом не контактировали в предыдущих компаниях)\n",
    "  \n",
    "  15 - previous: количество контактов с клиентом, до этой кампании (numeric)\n",
    "  \n",
    "  16 - poutcome: результат предыдущей маркетинговой кампании (categorical: \"unknown\",\"other\",\"failure\",\"success\")\n",
    "\n",
    "  **Целевой признак**:\n",
    "  \n",
    "  17 - y - подписал ли клиент срочный депозит? (binary: \"yes\",\"no\")"
   ]
  },
  {
   "cell_type": "markdown",
   "id": "109b9e2a",
   "metadata": {},
   "source": [
    "#### Загрузим датасеты"
   ]
  },
  {
   "cell_type": "code",
   "execution_count": 4,
   "id": "b72d5670",
   "metadata": {},
   "outputs": [],
   "source": [
    "df = pd.read_csv('bank-full.csv', sep=';')"
   ]
  },
  {
   "cell_type": "code",
   "execution_count": 5,
   "id": "f1732ca1",
   "metadata": {},
   "outputs": [
    {
     "data": {
      "text/html": [
       "<div>\n",
       "<style scoped>\n",
       "    .dataframe tbody tr th:only-of-type {\n",
       "        vertical-align: middle;\n",
       "    }\n",
       "\n",
       "    .dataframe tbody tr th {\n",
       "        vertical-align: top;\n",
       "    }\n",
       "\n",
       "    .dataframe thead th {\n",
       "        text-align: right;\n",
       "    }\n",
       "</style>\n",
       "<table border=\"1\" class=\"dataframe\">\n",
       "  <thead>\n",
       "    <tr style=\"text-align: right;\">\n",
       "      <th></th>\n",
       "      <th>age</th>\n",
       "      <th>job</th>\n",
       "      <th>marital</th>\n",
       "      <th>education</th>\n",
       "      <th>default</th>\n",
       "      <th>balance</th>\n",
       "      <th>housing</th>\n",
       "      <th>loan</th>\n",
       "      <th>contact</th>\n",
       "      <th>day</th>\n",
       "      <th>month</th>\n",
       "      <th>duration</th>\n",
       "      <th>campaign</th>\n",
       "      <th>pdays</th>\n",
       "      <th>previous</th>\n",
       "      <th>poutcome</th>\n",
       "      <th>y</th>\n",
       "    </tr>\n",
       "  </thead>\n",
       "  <tbody>\n",
       "    <tr>\n",
       "      <th>0</th>\n",
       "      <td>58</td>\n",
       "      <td>management</td>\n",
       "      <td>married</td>\n",
       "      <td>tertiary</td>\n",
       "      <td>no</td>\n",
       "      <td>2143</td>\n",
       "      <td>yes</td>\n",
       "      <td>no</td>\n",
       "      <td>unknown</td>\n",
       "      <td>5</td>\n",
       "      <td>may</td>\n",
       "      <td>261</td>\n",
       "      <td>1</td>\n",
       "      <td>-1</td>\n",
       "      <td>0</td>\n",
       "      <td>unknown</td>\n",
       "      <td>no</td>\n",
       "    </tr>\n",
       "    <tr>\n",
       "      <th>1</th>\n",
       "      <td>44</td>\n",
       "      <td>technician</td>\n",
       "      <td>single</td>\n",
       "      <td>secondary</td>\n",
       "      <td>no</td>\n",
       "      <td>29</td>\n",
       "      <td>yes</td>\n",
       "      <td>no</td>\n",
       "      <td>unknown</td>\n",
       "      <td>5</td>\n",
       "      <td>may</td>\n",
       "      <td>151</td>\n",
       "      <td>1</td>\n",
       "      <td>-1</td>\n",
       "      <td>0</td>\n",
       "      <td>unknown</td>\n",
       "      <td>no</td>\n",
       "    </tr>\n",
       "    <tr>\n",
       "      <th>2</th>\n",
       "      <td>33</td>\n",
       "      <td>entrepreneur</td>\n",
       "      <td>married</td>\n",
       "      <td>secondary</td>\n",
       "      <td>no</td>\n",
       "      <td>2</td>\n",
       "      <td>yes</td>\n",
       "      <td>yes</td>\n",
       "      <td>unknown</td>\n",
       "      <td>5</td>\n",
       "      <td>may</td>\n",
       "      <td>76</td>\n",
       "      <td>1</td>\n",
       "      <td>-1</td>\n",
       "      <td>0</td>\n",
       "      <td>unknown</td>\n",
       "      <td>no</td>\n",
       "    </tr>\n",
       "  </tbody>\n",
       "</table>\n",
       "</div>"
      ],
      "text/plain": [
       "   age           job  marital  education default  balance housing loan  \\\n",
       "0   58    management  married   tertiary      no     2143     yes   no   \n",
       "1   44    technician   single  secondary      no       29     yes   no   \n",
       "2   33  entrepreneur  married  secondary      no        2     yes  yes   \n",
       "\n",
       "   contact  day month  duration  campaign  pdays  previous poutcome   y  \n",
       "0  unknown    5   may       261         1     -1         0  unknown  no  \n",
       "1  unknown    5   may       151         1     -1         0  unknown  no  \n",
       "2  unknown    5   may        76         1     -1         0  unknown  no  "
      ]
     },
     "execution_count": 5,
     "metadata": {},
     "output_type": "execute_result"
    }
   ],
   "source": [
    "df.head(3)"
   ]
  },
  {
   "cell_type": "code",
   "execution_count": 6,
   "id": "3666c447",
   "metadata": {},
   "outputs": [
    {
     "data": {
      "text/plain": [
       "(45211, 17)"
      ]
     },
     "execution_count": 6,
     "metadata": {},
     "output_type": "execute_result"
    }
   ],
   "source": [
    "df.shape"
   ]
  },
  {
   "cell_type": "markdown",
   "id": "c6bb7867",
   "metadata": {},
   "source": [
    "Посмотрим на cоотношение классов целевого признака:"
   ]
  },
  {
   "cell_type": "code",
   "execution_count": 7,
   "id": "842fc04b",
   "metadata": {},
   "outputs": [
    {
     "data": {
      "text/plain": [
       "no     39922\n",
       "yes     5289\n",
       "Name: y, dtype: int64"
      ]
     },
     "execution_count": 7,
     "metadata": {},
     "output_type": "execute_result"
    }
   ],
   "source": [
    "df['y'].value_counts()"
   ]
  },
  {
   "cell_type": "markdown",
   "id": "d4d5d900",
   "metadata": {},
   "source": [
    "Очевиден дисбаланс классов"
   ]
  },
  {
   "cell_type": "code",
   "execution_count": 8,
   "id": "f9b470a4",
   "metadata": {},
   "outputs": [
    {
     "name": "stdout",
     "output_type": "stream",
     "text": [
      "<class 'pandas.core.frame.DataFrame'>\n",
      "RangeIndex: 45211 entries, 0 to 45210\n",
      "Data columns (total 17 columns):\n",
      " #   Column     Non-Null Count  Dtype \n",
      "---  ------     --------------  ----- \n",
      " 0   age        45211 non-null  int64 \n",
      " 1   job        45211 non-null  object\n",
      " 2   marital    45211 non-null  object\n",
      " 3   education  45211 non-null  object\n",
      " 4   default    45211 non-null  object\n",
      " 5   balance    45211 non-null  int64 \n",
      " 6   housing    45211 non-null  object\n",
      " 7   loan       45211 non-null  object\n",
      " 8   contact    45211 non-null  object\n",
      " 9   day        45211 non-null  int64 \n",
      " 10  month      45211 non-null  object\n",
      " 11  duration   45211 non-null  int64 \n",
      " 12  campaign   45211 non-null  int64 \n",
      " 13  pdays      45211 non-null  int64 \n",
      " 14  previous   45211 non-null  int64 \n",
      " 15  poutcome   45211 non-null  object\n",
      " 16  y          45211 non-null  object\n",
      "dtypes: int64(7), object(10)\n",
      "memory usage: 5.9+ MB\n"
     ]
    }
   ],
   "source": [
    "df.info()"
   ]
  },
  {
   "cell_type": "markdown",
   "id": "1e488161",
   "metadata": {},
   "source": [
    "Пропуски отсутствуют"
   ]
  },
  {
   "cell_type": "code",
   "execution_count": 9,
   "id": "4f7264f5",
   "metadata": {},
   "outputs": [
    {
     "data": {
      "text/html": [
       "<div>\n",
       "<style scoped>\n",
       "    .dataframe tbody tr th:only-of-type {\n",
       "        vertical-align: middle;\n",
       "    }\n",
       "\n",
       "    .dataframe tbody tr th {\n",
       "        vertical-align: top;\n",
       "    }\n",
       "\n",
       "    .dataframe thead th {\n",
       "        text-align: right;\n",
       "    }\n",
       "</style>\n",
       "<table border=\"1\" class=\"dataframe\">\n",
       "  <thead>\n",
       "    <tr style=\"text-align: right;\">\n",
       "      <th></th>\n",
       "      <th>age</th>\n",
       "      <th>balance</th>\n",
       "      <th>day</th>\n",
       "      <th>duration</th>\n",
       "      <th>campaign</th>\n",
       "      <th>pdays</th>\n",
       "      <th>previous</th>\n",
       "    </tr>\n",
       "  </thead>\n",
       "  <tbody>\n",
       "    <tr>\n",
       "      <th>count</th>\n",
       "      <td>45211.000000</td>\n",
       "      <td>45211.000000</td>\n",
       "      <td>45211.000000</td>\n",
       "      <td>45211.000000</td>\n",
       "      <td>45211.000000</td>\n",
       "      <td>45211.000000</td>\n",
       "      <td>45211.000000</td>\n",
       "    </tr>\n",
       "    <tr>\n",
       "      <th>mean</th>\n",
       "      <td>40.936210</td>\n",
       "      <td>1362.272058</td>\n",
       "      <td>15.806419</td>\n",
       "      <td>258.163080</td>\n",
       "      <td>2.763841</td>\n",
       "      <td>40.197828</td>\n",
       "      <td>0.580323</td>\n",
       "    </tr>\n",
       "    <tr>\n",
       "      <th>std</th>\n",
       "      <td>10.618762</td>\n",
       "      <td>3044.765829</td>\n",
       "      <td>8.322476</td>\n",
       "      <td>257.527812</td>\n",
       "      <td>3.098021</td>\n",
       "      <td>100.128746</td>\n",
       "      <td>2.303441</td>\n",
       "    </tr>\n",
       "    <tr>\n",
       "      <th>min</th>\n",
       "      <td>18.000000</td>\n",
       "      <td>-8019.000000</td>\n",
       "      <td>1.000000</td>\n",
       "      <td>0.000000</td>\n",
       "      <td>1.000000</td>\n",
       "      <td>-1.000000</td>\n",
       "      <td>0.000000</td>\n",
       "    </tr>\n",
       "    <tr>\n",
       "      <th>25%</th>\n",
       "      <td>33.000000</td>\n",
       "      <td>72.000000</td>\n",
       "      <td>8.000000</td>\n",
       "      <td>103.000000</td>\n",
       "      <td>1.000000</td>\n",
       "      <td>-1.000000</td>\n",
       "      <td>0.000000</td>\n",
       "    </tr>\n",
       "    <tr>\n",
       "      <th>50%</th>\n",
       "      <td>39.000000</td>\n",
       "      <td>448.000000</td>\n",
       "      <td>16.000000</td>\n",
       "      <td>180.000000</td>\n",
       "      <td>2.000000</td>\n",
       "      <td>-1.000000</td>\n",
       "      <td>0.000000</td>\n",
       "    </tr>\n",
       "    <tr>\n",
       "      <th>75%</th>\n",
       "      <td>48.000000</td>\n",
       "      <td>1428.000000</td>\n",
       "      <td>21.000000</td>\n",
       "      <td>319.000000</td>\n",
       "      <td>3.000000</td>\n",
       "      <td>-1.000000</td>\n",
       "      <td>0.000000</td>\n",
       "    </tr>\n",
       "    <tr>\n",
       "      <th>max</th>\n",
       "      <td>95.000000</td>\n",
       "      <td>102127.000000</td>\n",
       "      <td>31.000000</td>\n",
       "      <td>4918.000000</td>\n",
       "      <td>63.000000</td>\n",
       "      <td>871.000000</td>\n",
       "      <td>275.000000</td>\n",
       "    </tr>\n",
       "  </tbody>\n",
       "</table>\n",
       "</div>"
      ],
      "text/plain": [
       "                age        balance           day      duration      campaign  \\\n",
       "count  45211.000000   45211.000000  45211.000000  45211.000000  45211.000000   \n",
       "mean      40.936210    1362.272058     15.806419    258.163080      2.763841   \n",
       "std       10.618762    3044.765829      8.322476    257.527812      3.098021   \n",
       "min       18.000000   -8019.000000      1.000000      0.000000      1.000000   \n",
       "25%       33.000000      72.000000      8.000000    103.000000      1.000000   \n",
       "50%       39.000000     448.000000     16.000000    180.000000      2.000000   \n",
       "75%       48.000000    1428.000000     21.000000    319.000000      3.000000   \n",
       "max       95.000000  102127.000000     31.000000   4918.000000     63.000000   \n",
       "\n",
       "              pdays      previous  \n",
       "count  45211.000000  45211.000000  \n",
       "mean      40.197828      0.580323  \n",
       "std      100.128746      2.303441  \n",
       "min       -1.000000      0.000000  \n",
       "25%       -1.000000      0.000000  \n",
       "50%       -1.000000      0.000000  \n",
       "75%       -1.000000      0.000000  \n",
       "max      871.000000    275.000000  "
      ]
     },
     "execution_count": 9,
     "metadata": {},
     "output_type": "execute_result"
    }
   ],
   "source": [
    "df.describe()"
   ]
  },
  {
   "cell_type": "markdown",
   "id": "0a23eebd",
   "metadata": {},
   "source": [
    "Сразу выполним преобразование целевого признака:"
   ]
  },
  {
   "cell_type": "code",
   "execution_count": 10,
   "id": "f888bed2",
   "metadata": {},
   "outputs": [],
   "source": [
    "# Произведем мапинг на 0 и 1 для признака y\n",
    "binary_dict = {'no': 0, 'yes': 1}\n",
    "df['y'] = df['y'].map(binary_dict).astype(int)"
   ]
  },
  {
   "cell_type": "markdown",
   "id": "375548a6",
   "metadata": {},
   "source": [
    "Разабьем датасет на тренировочный и тестовый:"
   ]
  },
  {
   "cell_type": "code",
   "execution_count": 11,
   "id": "ccee1637",
   "metadata": {},
   "outputs": [],
   "source": [
    "target = df['y']\n",
    "X = df.iloc[:, :-1]"
   ]
  },
  {
   "cell_type": "code",
   "execution_count": 12,
   "id": "22397370",
   "metadata": {},
   "outputs": [],
   "source": [
    "X_train, X_test, y_train, y_test = train_test_split(X, target, test_size=0.3, random_state=7)"
   ]
  },
  {
   "cell_type": "code",
   "execution_count": 13,
   "id": "0a7ee9fd",
   "metadata": {},
   "outputs": [
    {
     "data": {
      "text/plain": [
       "(31647, 16)"
      ]
     },
     "execution_count": 13,
     "metadata": {},
     "output_type": "execute_result"
    }
   ],
   "source": [
    "X_train.shape"
   ]
  },
  {
   "cell_type": "code",
   "execution_count": 14,
   "id": "85c0e062",
   "metadata": {},
   "outputs": [],
   "source": [
    "categorical_columns = ['job', 'marital', 'education', 'default', 'housing', 'loan', 'contact', 'month', 'poutcome']\n",
    "ohe_columns = ['job', 'marital', 'education', 'contact']\n",
    "numeric_columns = ['age', 'balance', 'day', 'duration', 'campaign', 'pdays', 'previous']"
   ]
  },
  {
   "cell_type": "markdown",
   "id": "1c35dde7",
   "metadata": {},
   "source": [
    "#### Обработка признаков"
   ]
  },
  {
   "cell_type": "markdown",
   "id": "a844bcb9",
   "metadata": {},
   "source": [
    "Сначала обработаем бинарные признаки:"
   ]
  },
  {
   "cell_type": "code",
   "execution_count": 15,
   "id": "f1c0b37b",
   "metadata": {},
   "outputs": [],
   "source": [
    "# Произведем мапинг на 0 и 1 для признака default\n",
    "X_train['default'] = X_train['default'].map(binary_dict).astype(int)\n",
    "X_test['default'] = X_test['default'].map(binary_dict).astype(int)\n",
    "\n",
    "# Произведем мапинг на 0 и 1 для признака housing\n",
    "X_train['housing'] = X_train['housing'].map(binary_dict).astype(int)\n",
    "X_test['housing'] = X_test['housing'].map(binary_dict).astype(int)\n",
    "\n",
    "# Произведем мапинг на 0 и 1 для признака loan\n",
    "X_train['loan'] = X_train['loan'].map(binary_dict).astype(int)\n",
    "X_test['loan'] = X_test['loan'].map(binary_dict).astype(int)\n",
    "\n",
    "# Для признака poutcome будем считать 1 только для success все остальное пометим как 0\n",
    "poutcome_dict = {'unknown': 0, 'failure': 0, 'other': 0, 'success': 1}\n",
    "X_train['poutcome'] = X_train['poutcome'].map(poutcome_dict).astype(int)\n",
    "X_test['poutcome'] = X_test['poutcome'].map(poutcome_dict).astype(int)"
   ]
  },
  {
   "cell_type": "markdown",
   "id": "f7ffad5d",
   "metadata": {},
   "source": [
    "Обработаем оставшиеся категориальные признаки:"
   ]
  },
  {
   "cell_type": "code",
   "execution_count": 16,
   "id": "a561a2ec",
   "metadata": {},
   "outputs": [],
   "source": [
    "# Для признака month наименование месяцев переведем в их цифровое обозначение\n",
    "month_dict = {'jan': 1, 'feb': 2, 'mar': 3, 'apr': 4, 'may': 5, 'jun': 6,\n",
    "              'jul': 7, 'aug': 8, 'sep': 9, 'oct': 10, 'nov': 11, 'dec': 12}\n",
    "X_train['month'] = X_train['month'].map(month_dict).astype(int)\n",
    "X_test['month'] = X_test['month'].map(month_dict).astype(int)"
   ]
  },
  {
   "cell_type": "code",
   "execution_count": 17,
   "id": "4e817f13",
   "metadata": {},
   "outputs": [],
   "source": [
    "# Остальные категориальные признаси обработаем через OHE\n",
    "X_train = pd.get_dummies(X_train, columns=ohe_columns)\n",
    "X_test = pd.get_dummies(X_test, columns=ohe_columns)"
   ]
  },
  {
   "cell_type": "markdown",
   "id": "a8a9ac29",
   "metadata": {},
   "source": [
    "#### Модель XGBoost"
   ]
  },
  {
   "cell_type": "markdown",
   "id": "ba4cbdaa",
   "metadata": {},
   "source": [
    "Обучим модель и расчитаем метрики качества"
   ]
  },
  {
   "cell_type": "code",
   "execution_count": 19,
   "id": "7404c935",
   "metadata": {},
   "outputs": [
    {
     "name": "stdout",
     "output_type": "stream",
     "text": [
      "Classification results:\n",
      "f1: 54.43%\n",
      "roc: 72.29%\n",
      "recall: 48.31%\n",
      "precision: 62.32%\n"
     ]
    }
   ],
   "source": [
    "xgb_model = XGBClassifier()\n",
    "\n",
    "xgb_model.fit(X_train, y_train)\n",
    "y_predict = xgb_model.predict(X_test)\n",
    "\n",
    "evaluate_results(y_test, y_predict)"
   ]
  },
  {
   "cell_type": "code",
   "execution_count": 20,
   "id": "52ca6f0f",
   "metadata": {},
   "outputs": [],
   "source": [
    "# Создадим словарь который будет содержать метрики моделей\n",
    "models_results = {\n",
    "    'Model': [],\n",
    "    'F-Score': [],\n",
    "    'Precision': [],\n",
    "    'Recall': []\n",
    "}"
   ]
  },
  {
   "cell_type": "code",
   "execution_count": 21,
   "id": "32e05f95",
   "metadata": {},
   "outputs": [],
   "source": [
    "models_results['Model'].append('XGB_no_PU')\n",
    "models_results['F-Score'].append(f1_score(y_test, y_predict))\n",
    "models_results['Precision'].append(precision_score(y_test, y_predict))\n",
    "models_results['Recall'].append(recall_score(y_test, y_predict))"
   ]
  },
  {
   "cell_type": "markdown",
   "id": "586752a2",
   "metadata": {},
   "source": [
    "### random negative sampling"
   ]
  },
  {
   "cell_type": "code",
   "execution_count": 22,
   "id": "01616a65",
   "metadata": {},
   "outputs": [],
   "source": [
    "# Создадим функцию преобразования в PU и получения смешаной выборки из определенного процента записей датасета\n",
    "def get_pu_samples(X_train, y_train, part):\n",
    "    # получим индексы записей с позитивными значениями\n",
    "    positiv_idx = y_train[y_train == 1].index.to_list()\n",
    "    # Перемешаем индексы\n",
    "    np.random.shuffle(positiv_idx)\n",
    "    # Оставим тоько part процентов записей\n",
    "    positiv_sample_idx = int(np.ceil(part * len(positiv_idx)))\n",
    "    \n",
    "    #print(f'Используем {positiv_sample_idx}/{len(positiv_idx)} как позитивные и сделаем оставшуюся чать не размечеными!')\n",
    "    positiv_sample = positiv_idx[:positiv_sample_idx]\n",
    "    \n",
    "    X_train_pu = X_train.copy()\n",
    "    X_train_pu['y'] = y_train\n",
    "    \n",
    "    # Создаем столбец для новой целевой переменной, где у нас два класса - P (1) и U (-1)\n",
    "    X_train_pu['y_test'] = -1\n",
    "    X_train_pu.loc[positiv_sample, 'y_test'] = 1\n",
    "    #print('\\nTarget variable:\\n', X_train_pu.iloc[:,-1].value_counts())\n",
    "    \n",
    "    # Сформируем новый датасет для обучения\n",
    "    X_train_pu = X_train_pu.sample(frac=1)\n",
    "    negative_sample = X_train_pu[X_train_pu['y_test']==-1][:len(X_train_pu[X_train_pu['y_test']==1])]\n",
    "    sample_test = X_train_pu[X_train_pu['y_test']==-1][len(X_train_pu[X_train_pu['y_test']==1]):]\n",
    "    positiv_sample = X_train_pu[X_train_pu['y_test']==1]\n",
    "    \n",
    "    #print(f'\\nРазмер негативной выборки: {negative_sample.shape}\\nРазмер позитивной выборки: {positiv_sample.shape}')\n",
    "    sample_train = pd.concat([negative_sample, positiv_sample]).sample(frac=1)\n",
    "    return sample_train, sample_test"
   ]
  },
  {
   "cell_type": "code",
   "execution_count": 25,
   "id": "fcaf7145",
   "metadata": {},
   "outputs": [],
   "source": [
    "# Создадим функцию обучения модели\n",
    "def pu_custom_xgb(simple_train, simple_test, models_results, part):\n",
    "    x_train = sample_train.iloc[:,:-2]\n",
    "    x_test = sample_test.iloc[:,:-2]\n",
    "    y_train = sample_train.iloc[:,-2]\n",
    "    y_test = sample_test.iloc[:,-2]\n",
    "    \n",
    "    xgb_model = XGBClassifier()\n",
    "    xgb_model.fit(x_train, y_train)\n",
    "    y_predict = xgb_model.predict(x_test)\n",
    "    #evaluate_results(y_test, y_predict)\n",
    "    \n",
    "    # Внесем метрики полученной модели в словарь\n",
    "    models_results['Model'].append('XGB_PU_' + str(part*100) + '%')\n",
    "    models_results['F-Score'].append(f1_score(y_test, y_predict))\n",
    "    models_results['Precision'].append(precision_score(y_test, y_predict))\n",
    "    models_results['Recall'].append(recall_score(y_test, y_predict))"
   ]
  },
  {
   "cell_type": "code",
   "execution_count": 26,
   "id": "68b1ec41",
   "metadata": {},
   "outputs": [],
   "source": [
    "# Задаим спсок процентов pu выборок\n",
    "part = [0.15, 0.25, 0.5, 0.75, 0.9]\n",
    "\n",
    "# Обучим модели и расчитаем метрки для каждого из процентов\n",
    "for percent in part:\n",
    "    sample_train, sample_test = get_pu_samples(X_train, y_train, percent)\n",
    "    pu_custom_xgb(sample_train, sample_test, models_results, percent)"
   ]
  },
  {
   "cell_type": "code",
   "execution_count": 27,
   "id": "2fb69c40",
   "metadata": {},
   "outputs": [
    {
     "data": {
      "text/html": [
       "<div>\n",
       "<style scoped>\n",
       "    .dataframe tbody tr th:only-of-type {\n",
       "        vertical-align: middle;\n",
       "    }\n",
       "\n",
       "    .dataframe tbody tr th {\n",
       "        vertical-align: top;\n",
       "    }\n",
       "\n",
       "    .dataframe thead th {\n",
       "        text-align: right;\n",
       "    }\n",
       "</style>\n",
       "<table border=\"1\" class=\"dataframe\">\n",
       "  <thead>\n",
       "    <tr style=\"text-align: right;\">\n",
       "      <th></th>\n",
       "      <th>Model</th>\n",
       "      <th>F-Score</th>\n",
       "      <th>Precision</th>\n",
       "      <th>Recall</th>\n",
       "    </tr>\n",
       "  </thead>\n",
       "  <tbody>\n",
       "    <tr>\n",
       "      <th>0</th>\n",
       "      <td>XGB_no_PU</td>\n",
       "      <td>0.544253</td>\n",
       "      <td>0.623213</td>\n",
       "      <td>0.483051</td>\n",
       "    </tr>\n",
       "    <tr>\n",
       "      <th>1</th>\n",
       "      <td>XGB_PU_15.0%</td>\n",
       "      <td>0.475695</td>\n",
       "      <td>0.328981</td>\n",
       "      <td>0.858599</td>\n",
       "    </tr>\n",
       "    <tr>\n",
       "      <th>2</th>\n",
       "      <td>XGB_PU_25.0%</td>\n",
       "      <td>0.448976</td>\n",
       "      <td>0.300198</td>\n",
       "      <td>0.890114</td>\n",
       "    </tr>\n",
       "    <tr>\n",
       "      <th>3</th>\n",
       "      <td>XGB_PU_50.0%</td>\n",
       "      <td>0.392128</td>\n",
       "      <td>0.251030</td>\n",
       "      <td>0.895421</td>\n",
       "    </tr>\n",
       "    <tr>\n",
       "      <th>4</th>\n",
       "      <td>XGB_PU_75.0%</td>\n",
       "      <td>0.254784</td>\n",
       "      <td>0.149022</td>\n",
       "      <td>0.877672</td>\n",
       "    </tr>\n",
       "    <tr>\n",
       "      <th>5</th>\n",
       "      <td>XGB_PU_90.0%</td>\n",
       "      <td>0.119197</td>\n",
       "      <td>0.064007</td>\n",
       "      <td>0.865204</td>\n",
       "    </tr>\n",
       "  </tbody>\n",
       "</table>\n",
       "</div>"
      ],
      "text/plain": [
       "          Model   F-Score  Precision    Recall\n",
       "0     XGB_no_PU  0.544253   0.623213  0.483051\n",
       "1  XGB_PU_15.0%  0.475695   0.328981  0.858599\n",
       "2  XGB_PU_25.0%  0.448976   0.300198  0.890114\n",
       "3  XGB_PU_50.0%  0.392128   0.251030  0.895421\n",
       "4  XGB_PU_75.0%  0.254784   0.149022  0.877672\n",
       "5  XGB_PU_90.0%  0.119197   0.064007  0.865204"
      ]
     },
     "execution_count": 27,
     "metadata": {},
     "output_type": "execute_result"
    }
   ],
   "source": [
    "# Выведем метрики полученые для заданых моделей\n",
    "pd.DataFrame(data=models_results).sort_values('F-Score', ascending=False)"
   ]
  },
  {
   "cell_type": "markdown",
   "id": "26d61b19",
   "metadata": {},
   "source": [
    "Вывод: Общая метрика качества F-score падает при использовании PU, но при этом с увеличением процента позитивных записей активно растет полнота при активном падении точности. При малых значениях процента PU выборки общая точность модели выше."
   ]
  },
  {
   "cell_type": "code",
   "execution_count": null,
   "id": "88818a71",
   "metadata": {},
   "outputs": [],
   "source": []
  }
 ],
 "metadata": {
  "kernelspec": {
   "display_name": "Python 3 (ipykernel)",
   "language": "python",
   "name": "python3"
  },
  "language_info": {
   "codemirror_mode": {
    "name": "ipython",
    "version": 3
   },
   "file_extension": ".py",
   "mimetype": "text/x-python",
   "name": "python",
   "nbconvert_exporter": "python",
   "pygments_lexer": "ipython3",
   "version": "3.9.13"
  }
 },
 "nbformat": 4,
 "nbformat_minor": 5
}
